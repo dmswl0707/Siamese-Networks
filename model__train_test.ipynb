{
  "nbformat": 4,
  "nbformat_minor": 0,
  "metadata": {
    "colab": {
      "name": "model__train_test.ipynb",
      "private_outputs": true,
      "provenance": [],
      "authorship_tag": "ABX9TyO0UVFXeut3hU41gzV390y6",
      "include_colab_link": true
    },
    "kernelspec": {
      "name": "python3",
      "display_name": "Python 3"
    },
    "language_info": {
      "name": "python"
    }
  },
  "cells": [
    {
      "cell_type": "markdown",
      "metadata": {
        "id": "view-in-github",
        "colab_type": "text"
      },
      "source": [
        "<a href=\"https://colab.research.google.com/github/dmswl0707/Siamese-Networks/blob/main/model__train_test.ipynb\" target=\"_parent\"><img src=\"https://colab.research.google.com/assets/colab-badge.svg\" alt=\"Open In Colab\"/></a>"
      ]
    },
    {
      "cell_type": "code",
      "metadata": {
        "id": "rJImR_d233Qn"
      },
      "source": [
        "class siamese_network(nn.Module):\n",
        "    def __init__(self):\n",
        "        super(siamese_network, self).__init__()\n",
        "        self.cnn = nn.Sequential(\n",
        "            nn.ReflectionPad2d(1),   #\n",
        "            nn.Conv2d(1, 4, kernel_size=3),\n",
        "            nn.ReLU(inplace=True),\n",
        "            nn.BatchNorm2d(4),\n",
        "\n",
        "            nn.ReflectionPad2d(1),\n",
        "            nn.Conv2d(4, 8, kernel_size=3),\n",
        "            nn.ReLU(inplace=True),\n",
        "            nn.BatchNorm2d(8),\n",
        "\n",
        "            nn.ReflectionPad2d(1),\n",
        "            nn.Conv2d(8, 8, kernel_size=3),\n",
        "            nn.ReLU(inplace=True),\n",
        "            nn.BatchNorm2d(8)  \n",
        "        )\n",
        "        self.fc = nn.Sequential(\n",
        "            nn.Linear(),\n",
        "            nn.ReLU(inplace=True),\n",
        "\n",
        "            nn.Linear(),\n",
        "            nn.ReLU(inplace=True)\n",
        "\n",
        "            nn.Linear()\n",
        "        )\n",
        "\n",
        "    def forward_once(self, x):\n",
        "        output = self.cnn(x)\n",
        "        output = output.view(output.size()[0], -1)\n",
        "        output = self.fc(output)\n",
        "        return output\n",
        "\n",
        "    def forward(self, input1, input2):\n",
        "        output1 = self.forward_once(input1)\n",
        "        output2 = self.forward_once(input2)\n",
        "        return output1, output2\n"
      ],
      "execution_count": null,
      "outputs": []
    },
    {
      "cell_type": "code",
      "metadata": {
        "id": "LHeyHPIv6AGH"
      },
      "source": [
        "class Contrastive_loss(torch.nn.Module): \n",
        "    def __init__(self, margin=2.0):\n",
        "        super(contrastive_loss, self).__init__()\n",
        "        self.magin = margin\n",
        "\n",
        "    def forward(self, output1, output2, label):\n",
        "        euclidean_distance = F.pairwise_distance(output1, output2, keepdim = True)\n",
        "        loss_contrastive = torch.mean((1- label) * torch.pow(euclidean_distance, 2)\n",
        "                                       (label) * torch.pow(torch.clamp(self.margin - euclidean_distanxe, min=0.2), 2))\n",
        "        \n",
        "        return loss_contrastive                               "
      ],
      "execution_count": null,
      "outputs": []
    },
    {
      "cell_type": "code",
      "metadata": {
        "id": "GF2jMAxP7mML"
      },
      "source": [
        "train_dataloader = DataLoader()\n",
        "\n",
        "net = siamese_network().cuda()\n",
        "criterion = Contrastive_loss()\n",
        "optimizer = optim.Adam(net.parameters(), lr=0.0005)"
      ],
      "execution_count": null,
      "outputs": []
    },
    {
      "cell_type": "code",
      "metadata": {
        "id": "4icfL5L58Oeu"
      },
      "source": [
        "counter = []\n",
        "loss_history = []\n",
        "iteration_number = 0\n",
        "\n",
        "for epoch in range(0, num_epochs):\n",
        "    for i, data in enumerate(train_dataloader, 0):\n",
        "        img0, img1, label = data\n",
        "        img0, img1, label = img0.cuda(), img1.cuda(), label.cuda()\n",
        "        optimizer.zero_grad()\n",
        "        output1, output2 = net(img0, img1)\n",
        "        loss_contrastive = criterion(ouput1, output2, label)\n",
        "        loss_contrastive.backward()\n",
        "        optimizer.step()\n",
        "        if i % 10 == 0:\n",
        "            print(\"epoch number {}\\n current loss {}\\n\".format(epoch, loss_contrastive.item()))\n",
        "            iteration_number += 10\n",
        "            counter.append(iteration_number)\n",
        "            loss_history.append(loss_contrastive.item())\n",
        "\n",
        "\n",
        "show_plot(counter, loss_history)\n"
      ],
      "execution_count": null,
      "outputs": []
    },
    {
      "cell_type": "code",
      "metadata": {
        "id": "S_-PeSLpAnLx"
      },
      "source": [
        "dataiter = iter(test_dataloader)\n",
        "x0,_,_ = next(dataiter)\n",
        "\n",
        "for i in range(10):\n",
        "    _,x1,label2 = next(dataiter)\n",
        "    concatenated = torch.cat((x0,x1),0)\n",
        "    \n",
        "    output1,output2 = net(Variable(x0).cuda(),Variable(x1).cuda())\n",
        "    euclidean_distance = F.pairwise_distance(output1, output2)\n",
        "    imshow(torchvision.utils.make_grid(concatenated),'Dissimilarity: {:.2f}'.format(euclidean_distance.item()))"
      ],
      "execution_count": null,
      "outputs": []
    }
  ]
}